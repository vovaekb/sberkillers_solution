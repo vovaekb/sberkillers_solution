{
 "cells": [
  {
   "cell_type": "code",
   "execution_count": null,
   "id": "8f440d99",
   "metadata": {},
   "outputs": [],
   "source": [
    "import numpy as np\n",
    "import cv2 as cv\n",
    "\n",
    "# Читать видео\n",
    "cap = cv.VideoCapture('D:/vsprojects/images/vtest.avi')\n",
    "# Фоновая модель извлечения\n",
    "fgbg = cv.createBackgroundSubtractorMOG2(\n",
    "    history=500, varThreshold=100, detectShadows=False)\n",
    "\n",
    "# Предварительная обработка\n",
    "def process(image, opt=1):\n",
    "    mask = fgbg.apply(frame)\n",
    "    line = cv.getStructuringElement(cv.MORPH_RECT, (1, 5), (-1, -1))\n",
    "    # Открытая операция\n",
    "    mask = cv.morphologyEx(mask, cv.MORPH_OPEN, line)\n",
    "    cv.imshow(\"mask\", mask)\n",
    "    # Контур извлечения, найти самый большой контур\n",
    "    contours, hierarchy = cv.findContours(mask, cv.RETR_EXTERNAL, cv.CHAIN_APPROX_SIMPLE)\n",
    "    for c in range(len(contours)):\n",
    "        area = cv.contourArea(contours[c])\n",
    "        if area < 100:\n",
    "            continue\n",
    "        # Извлечь прямоугольник\n",
    "        rect = cv.minAreaRect(contours[c])\n",
    "        box = cv.boxPoints(rect)\n",
    "        box = np.int0(box)\n",
    "        # Прямоугольник\n",
    "        cv.drawContours(image, [box], 0, (0, 0, 255), 2)\n",
    "        # Центральная точка\n",
    "        cv.circle(image, (np.int32(rect[0][0]), np.int32(rect[0][1])), 2, (255, 0, 0), 2, 8, 0)\n",
    "    return image, mask\n",
    "\n",
    "\n",
    "while True:\n",
    "    ret, frame = cap.read()\n",
    "    cv.imwrite(\"D:/input.png\", frame)\n",
    "    cv.imshow('input', frame)\n",
    "    result, m_ = process(frame)\n",
    "    cv.imshow('result', result)\n",
    "    k = cv.waitKey(50) & 0xff\n",
    "    if k == 27:\n",
    "        cv.imwrite(\"D:/result.png\", result)\n",
    "        cv.imwrite(\"D:/mask.png\", m_)\n",
    "\n",
    "        break\n",
    "cap.release()\n",
    "cv.destroyAllWindows()"
   ]
  }
 ],
 "metadata": {
  "kernelspec": {
   "display_name": "Python 3",
   "language": "python",
   "name": "python3"
  },
  "language_info": {
   "codemirror_mode": {
    "name": "ipython",
    "version": 3
   },
   "file_extension": ".py",
   "mimetype": "text/x-python",
   "name": "python",
   "nbconvert_exporter": "python",
   "pygments_lexer": "ipython3",
   "version": "3.8.8"
  }
 },
 "nbformat": 4,
 "nbformat_minor": 5
}
